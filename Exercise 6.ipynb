{
 "cells": [
  {
   "cell_type": "code",
   "execution_count": 2,
   "id": "ec6ee801-ad4a-4784-ac1d-299731a301b8",
   "metadata": {},
   "outputs": [],
   "source": [
    "import numpy as np\n",
    "from astropy.table import Table"
   ]
  },
  {
   "cell_type": "code",
   "execution_count": 7,
   "id": "853579f3-8f97-4b5a-b9cd-bd1c7dad7f45",
   "metadata": {},
   "outputs": [],
   "source": [
    "def g(x):\n",
    "    return np.cos(x) #Sets f(x) = sin(x)"
   ]
  },
  {
   "cell_type": "code",
   "execution_count": 4,
   "id": "4bf0f596-df49-4594-9d9c-0c0b9279ae1c",
   "metadata": {},
   "outputs": [],
   "source": [
    "def f(x):\n",
    "    return np.sin(x) #Sets g(x) = cos(x)"
   ]
  },
  {
   "cell_type": "markdown",
   "id": "3cee5515-67c8-4d6c-af37-298ad1292cf1",
   "metadata": {},
   "source": [
    "Define Sine and Cosine as f(x) and g(x)"
   ]
  },
  {
   "cell_type": "code",
   "execution_count": 5,
   "id": "9efa7c0c-65b4-4ac0-96af-784ef63e7c97",
   "metadata": {},
   "outputs": [
    {
     "name": "stdout",
     "output_type": "stream",
     "text": [
      "         x                     f(x)                 g(x)       \n",
      "-------------------- ----------------------- ------------------\n",
      "                 0.0                     0.0                1.0\n",
      "0.006289474781961547    0.006289433316067751 0.9999802213186835\n",
      "0.012578949563923095    0.012578617838741058 0.9999208860571256\n",
      "0.018868424345884642     0.01886730478446709 0.9998219965624733\n",
      " 0.02515789912784619    0.025155245389375847  0.999683556746534\n",
      " 0.03144737390980774      0.0314421909191206 0.9995055720856217\n",
      "0.037736848691769284     0.03772789267871718 0.9992880496203402\n",
      " 0.04402632347373083     0.04401210202238166 0.9990309979553046\n",
      " 0.05031579825569238     0.05029457036336619 0.9987344272588006\n",
      "0.056605273037653926     0.05657504918379235 0.9983983492623831\n",
      "                 ...                     ...                ...\n",
      "    6.22029055935997    -0.06285329004448273 0.9980227772604112\n",
      "   6.226580034141932    -0.05657504918379272  0.998398349262383\n",
      "   6.232869508923893   -0.050294570363367035 0.9987344272588006\n",
      "   6.239158983705855    -0.04401210202238211 0.9990309979553045\n",
      "   6.245448458487816     -0.0377278926787181 0.9992880496203401\n",
      "   6.251737933269778   -0.031442190919121114 0.9995055720856217\n",
      "   6.258027408051739   -0.025155245389376843  0.999683556746534\n",
      "   6.264316882833701   -0.018867304784467676 0.9998219965624733\n",
      "   6.270606357615662   -0.012578617838742121 0.9999208860571257\n",
      "   6.276895832397624   -0.006289433316068405 0.9999802213186832\n",
      "   6.283185307179586 -2.4492935982947064e-16                1.0\n",
      "Length = 1000 rows\n"
     ]
    }
   ],
   "source": [
    "mytable = Table()\n",
    "x = np.linspace(0, 2*np.pi, 1000)\n",
    "mytable['x'] = x\n",
    "mytable['f(x)'] = f(x)\n",
    "mytable['g(x)'] = g(x)\n",
    "print(mytable)"
   ]
  },
  {
   "cell_type": "markdown",
   "id": "824b5cda-6357-4c92-b6d4-87047826f701",
   "metadata": {},
   "source": [
    "Creates a 1000-Step table from 0 to 2pi, then plugs in each value into it's respective function"
   ]
  },
  {
   "cell_type": "code",
   "execution_count": 6,
   "id": "ad75760d-068f-459d-9eb9-383707a945d7",
   "metadata": {},
   "outputs": [
    {
     "name": "stdout",
     "output_type": "stream",
     "text": [
      "         x                  sin(x)              cos(x)      \n",
      "-------------------- -------------------- ------------------\n",
      "                 0.0                  0.0                1.0\n",
      "0.006289474781961547 0.006289433316067751 0.9999802213186835\n",
      "0.012578949563923095 0.012578617838741058 0.9999208860571256\n",
      "0.018868424345884642  0.01886730478446709 0.9998219965624733\n",
      " 0.02515789912784619 0.025155245389375847  0.999683556746534\n",
      " 0.03144737390980774   0.0314421909191206 0.9995055720856217\n",
      "0.037736848691769284  0.03772789267871718 0.9992880496203402\n",
      " 0.04402632347373083  0.04401210202238166 0.9990309979553046\n",
      " 0.05031579825569238  0.05029457036336619 0.9987344272588006\n",
      "0.056605273037653926  0.05657504918379235 0.9983983492623831\n"
     ]
    }
   ],
   "source": [
    "i = 0.0\n",
    "\n",
    "x =[]\n",
    "z =[]\n",
    "y = []\n",
    "\n",
    "for i in range(0, 10):  \n",
    "    x.append(mytable['x'][i])\n",
    "    z.append(mytable['f(x)'][i])\n",
    "    y.append(mytable['g(x)'][i])\n",
    "    #x = np.linspace(0, 2*np.pi, 10)   \n",
    "    #z = np.sin(x)\n",
    "    #y = np.cos(x)\n",
    "xyztable = Table()\n",
    "xyztable['x'] = x\n",
    "xyztable['sin(x)'] = z\n",
    "xyztable['cos(x)'] = y\n",
    "print(xyztable)"
   ]
  },
  {
   "cell_type": "markdown",
   "id": "70ade45e-38e2-4030-a581-1e7718392cbc",
   "metadata": {},
   "source": [
    "Takes the table we had above and grab"
   ]
  },
  {
   "cell_type": "code",
   "execution_count": null,
   "id": "bb58f914-5d7c-423f-9bd1-f0f24b9a0d1c",
   "metadata": {},
   "outputs": [],
   "source": []
  }
 ],
 "metadata": {
  "kernelspec": {
   "display_name": "ASTR 19",
   "language": "python",
   "name": "astr19"
  },
  "language_info": {
   "codemirror_mode": {
    "name": "ipython",
    "version": 3
   },
   "file_extension": ".py",
   "mimetype": "text/x-python",
   "name": "python",
   "nbconvert_exporter": "python",
   "pygments_lexer": "ipython3",
   "version": "3.10.12"
  }
 },
 "nbformat": 4,
 "nbformat_minor": 5
}
